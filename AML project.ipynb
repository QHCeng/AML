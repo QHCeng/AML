{
 "cells": [
  {
   "cell_type": "code",
   "execution_count": null,
   "id": "f37afd50-cda4-4a51-adf2-2d410653ba65",
   "metadata": {},
   "outputs": [],
   "source": [
    "hjbdcfhgvjbhjvggfchvb"
   ]
  }
 ],
 "metadata": {
  "kernelspec": {
   "display_name": "Python 3 (ipykernel)",
   "language": "python",
   "name": "python3"
  },
  "language_info": {
   "codemirror_mode": {
    "name": "ipython",
    "version": 3
   },
   "file_extension": ".py",
   "mimetype": "text/x-python",
   "name": "python",
   "nbconvert_exporter": "python",
   "pygments_lexer": "ipython3",
   "version": "3.12.4"
  }
 },
 "nbformat": 4,
 "nbformat_minor": 5
}
